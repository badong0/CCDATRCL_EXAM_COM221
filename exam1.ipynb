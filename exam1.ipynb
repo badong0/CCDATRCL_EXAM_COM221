{
  "cells": [
    {
      "cell_type": "markdown",
      "metadata": {
        "colab_type": "text",
        "id": "view-in-github"
      },
      "source": [
        "<a href=\"https://colab.research.google.com/github/robitussin/CCDATRCL_EXAM/blob/main/exam1.ipynb\" target=\"_parent\"><img src=\"https://colab.research.google.com/assets/colab-badge.svg\" alt=\"Open In Colab\"/></a>"
      ]
    },
    {
      "cell_type": "markdown",
      "metadata": {
        "id": "yaz2B0KGFehP"
      },
      "source": [
        "# Midterm Exam 💛💙"
      ]
    },
    {
      "cell_type": "markdown",
      "metadata": {
        "id": "_DmK1ONEFehQ"
      },
      "source": [
        "**Instructions** ❗️❗️\n",
        "\n",
        "❌ Do not remove or modify the notebook **sections**, **subsections**, **exam questions** or **any text** in this python notebook\n",
        "\n",
        "✔️ Put your answer in the designated cells below each question"
      ]
    },
    {
      "cell_type": "markdown",
      "metadata": {
        "id": "TMCAXKWCFehR"
      },
      "source": [
        "## Search"
      ]
    },
    {
      "cell_type": "code",
      "execution_count": 540,
      "metadata": {
        "id": "Fy8nEBRRFehR"
      },
      "outputs": [],
      "source": [
        "def linearSearch(my_list, number):\n",
        "\n",
        "    index = 0\n",
        "\n",
        "    for i in my_list:\n",
        "\n",
        "        if my_list[index] == number:\n",
        "            return index\n",
        "\n",
        "        index = index + 1\n",
        "\n",
        "    return -1\n"
      ]
    },
    {
      "cell_type": "markdown",
      "metadata": {
        "id": "AjAevpueFehS"
      },
      "source": [
        "1. Using **linear search**, write a `findLargestIncrease()` function to find the largest increase in value between two adjacent numbers in your student number `(10 points)`\n",
        "\n",
        "    **Example:**\n",
        "\n",
        "    student_number = [2,0,2,2,6,2,5,1,9,3]\n",
        "\n",
        "    **Expected Output:**\n",
        "\n",
        "    findLargestIncrease(student_number)\n",
        "\n",
        "    Output: Between 1 and 9\n",
        "\n",
        "    **Explanation:**\n",
        "\n",
        "    From this student_number, the largest increase happened from number 1 to number 9"
      ]
    },
    {
      "cell_type": "code",
      "execution_count": 541,
      "metadata": {
        "id": "JE8nEfyJFehS"
      },
      "outputs": [
        {
          "name": "stdout",
          "output_type": "stream",
          "text": [
            "Between 1 and 9\n"
          ]
        }
      ],
      "source": [
        "def findlargestIncrease(student_number):\n",
        "    if len(student_number) <2:\n",
        "        return\"Not enough Elements to find the largest increase\"\n",
        "    \n",
        "    largest_increase = 0\n",
        "    start_index = 0\n",
        "    end_index = 0\n",
        "\n",
        "    for i in range(len(student_number)-1):\n",
        "        increase = student_number[i + 1] - student_number[i]\n",
        "        if increase > largest_increase:\n",
        "            largest_increase = increase\n",
        "            start_index = i\n",
        "            end_index = i + 1\n",
        "            \n",
        "    if largest_increase == 0:\n",
        "        return \"no increase found in the list\"\n",
        "    else:\n",
        "        return f\"Between {student_number[start_index]} and {student_number[end_index]}\"\n",
        "    \n",
        "\n",
        "if __name__ == \"__main__\":\n",
        "\n",
        "    student_number = [2,0,2,2,6,2,5,1,9,3]\n",
        "    result = findlargestIncrease(student_number)\n",
        "    print(result)\n"
      ]
    },
    {
      "cell_type": "markdown",
      "metadata": {
        "id": "nMyr1fNyFehS"
      },
      "source": [
        "2. Using **linear search**, write a `findLargestDecrease()` function to find the largest decrease in value between two adjacent numbers in your student number `(10 points)`\n",
        "\n",
        "    **Example:**\n",
        "\n",
        "    student_number = [2,0,2,2,6,2,5,1,9,3]\n",
        "\n",
        "    **Expected Output:**\n",
        "\n",
        "    findLargestDecrease(student_number)\n",
        "\n",
        "    Output: Between 9 and 3\n",
        "\n",
        "    **Explanation:**\n",
        "\n",
        "    From this student_number, the largest decrease happened from number 9 to number 3"
      ]
    },
    {
      "cell_type": "code",
      "execution_count": 542,
      "metadata": {
        "id": "bfMfQVbVFehS"
      },
      "outputs": [
        {
          "name": "stdout",
          "output_type": "stream",
          "text": [
            "Between 9 and 3\n"
          ]
        }
      ],
      "source": [
        "# put your answer here\n",
        "\n",
        "def findlargestDecrease(student_number):\n",
        "    if len(student_number) <2:\n",
        "        return\"Not enough Elements to find the largest increase\"\n",
        "    \n",
        "    largest_Decrease = 0\n",
        "    start_index = 0\n",
        "    end_index = 0\n",
        "\n",
        "    for i in range(len(student_number)-1):\n",
        "        Decrease = student_number[i] - student_number[i + 1]\n",
        "        if Decrease > largest_Decrease:\n",
        "            largest_Decrease = Decrease\n",
        "            start_index = i\n",
        "            end_index = i + 1\n",
        "            \n",
        "    if largest_Decrease == 0:\n",
        "        return \"no increase found in the list\"\n",
        "    else:\n",
        "        return f\"Between {student_number[start_index]} and {student_number[end_index]}\"\n",
        "    \n",
        "student_number = [2,0,2,2,6,2,5,1,9,3]\n",
        "result = findlargestDecrease(student_number)\n",
        "print(result)"
      ]
    },
    {
      "cell_type": "markdown",
      "metadata": {
        "id": "NtKSQn9QFehS"
      },
      "source": [
        "## Linked List"
      ]
    },
    {
      "cell_type": "code",
      "execution_count": 543,
      "metadata": {
        "id": "0HP5zyJcFehS"
      },
      "outputs": [],
      "source": [
        "class Node:\n",
        "\n",
        "    def __init__(self, data):\n",
        "        self.data = data\n",
        "        self.next = None  # null"
      ]
    },
    {
      "cell_type": "code",
      "execution_count": 544,
      "metadata": {
        "id": "A-8Uefe7FehS"
      },
      "outputs": [],
      "source": [
        "class LinkedList:\n",
        "\n",
        "    def __init__(self):\n",
        "        self.head = None\n",
        "\n",
        "    def traverse(self, node):\n",
        "        while node:\n",
        "            print(node.data, end=\" -> \")\n",
        "            node = node.next"
      ]
    },
    {
      "cell_type": "markdown",
      "metadata": {
        "id": "uPgIJJuSFehT"
      },
      "source": [
        "**Instructions** ❗️❗️\n",
        "\n",
        "Use the pre-defined linked list class/functions to create a linked list"
      ]
    },
    {
      "cell_type": "markdown",
      "metadata": {
        "id": "WIwpW7Q2FehT"
      },
      "source": [
        "1. Create a Singly linked list named **num_list** and print all of its elements. `(5 points)`\n",
        "\n",
        "- **num_list** should contain all digits of your student number.\n",
        "\n",
        "    **Expected Output:**\n",
        "\n",
        "    print(num_list)\n",
        "\n",
        "    [2, 0, 2, 2, 1, 2, 3, 4, 5, 6]"
      ]
    },
    {
      "cell_type": "code",
      "execution_count": 545,
      "metadata": {
        "id": "Lihv0JPiFehT"
      },
      "outputs": [
        {
          "name": "stdout",
          "output_type": "stream",
          "text": [
            "(2, 0, 2, 2, 1, 2, 3, 4, 5, 6)\n"
          ]
        }
      ],
      "source": [
        "# put your answer here\n",
        "num_list = (2, 0, 2, 2, 1, 2, 3, 4, 5, 6)\n",
        "linked_list = LinkedList()\n",
        "print(num_list)"
      ]
    },
    {
      "cell_type": "markdown",
      "metadata": {
        "id": "dqA2UYrYFehT"
      },
      "source": [
        "2. Write a `hasPrime()` function to test whether a prime number is in the last six digits of **num_list**. `(5 points)`\n",
        "\n",
        "- If a prime number is in the last six digits of **num_list**, the method should return **true**\n",
        "\n",
        "- If a prime number is not in the last six digits of **num_list**, the method should return **false**\n",
        "\n",
        "    **Expected Output:**\n",
        "\n",
        "    hasPrime(num_list)\n",
        "\n",
        "    True"
      ]
    },
    {
      "cell_type": "code",
      "execution_count": 546,
      "metadata": {
        "id": "GYwsQNz5FehT"
      },
      "outputs": [
        {
          "name": "stdout",
          "output_type": "stream",
          "text": [
            "True\n"
          ]
        }
      ],
      "source": [
        "# put your answer here\n",
        "def isPrime(num):\n",
        "    if num <= 1:\n",
        "        return False\n",
        "    if num <= 3:\n",
        "        return True\n",
        "    if num % 2 == 0 or num % 3 == 0:\n",
        "        return False\n",
        "    i = 5\n",
        "\n",
        "    while i * i <= num:\n",
        "        if num % i == 0 or num % (i+2) == 0:\n",
        "            return False\n",
        "        i += 6\n",
        "    return True\n",
        "\n",
        "def hasPrime(num_list):\n",
        "    if len(num_list) < 6:\n",
        "        return False\n",
        "    for num in num_list[-6:]:\n",
        "        if isPrime(num):\n",
        "            return True\n",
        "    return False\n",
        "\n",
        "num_list = (2, 0, 2, 2, 1, 2, 3, 4, 5, 6)\n",
        "result = hasPrime(num_list)\n",
        "print(result)"
      ]
    },
    {
      "cell_type": "markdown",
      "metadata": {
        "id": "5Qb0BOiwFehT"
      },
      "source": [
        "3. Write a `removeZeroes()` function to remove all occurrences of zeroes in **num_list**. `(5 points)`\n",
        "\n",
        "- If a zero is in **num_list**, return **num_list**\n",
        "\n",
        "- If there are no zeroes in **num_list**, return **\"no zeros found\"**\n",
        "\n",
        "    **Expected Output:**\n",
        "\n",
        "    removeZeroes(num_list)\n",
        "\n",
        "    [2, 2, 1, 2, 3, 4, 5, 6]"
      ]
    },
    {
      "cell_type": "code",
      "execution_count": 547,
      "metadata": {
        "id": "k1vAHUYuFehT"
      },
      "outputs": [
        {
          "name": "stdout",
          "output_type": "stream",
          "text": [
            "[2, 2, 2, 1, 2, 3, 4, 5, 6]\n"
          ]
        }
      ],
      "source": [
        "# put your answer here\n",
        "def removeZeroes(num_list):\n",
        "    num_list = [num for num in num_list if num != 0]\n",
        "    if len(num_list) == 0:\n",
        "        return \"no zero found\"\n",
        "    else:\n",
        "        return num_list\n",
        "    \n",
        "num_list = (2, 0, 2, 2, 1, 2, 3, 4, 5, 6)\n",
        "result = removeZeroes(num_list)\n",
        "print(result)"
      ]
    },
    {
      "cell_type": "markdown",
      "metadata": {
        "id": "SKAlpglNFehT"
      },
      "source": [
        "4. Insert a dash symbol between the 4th and 5th digit in **num_list**. `(5 points)`\n",
        "\n",
        "    **Expected Output:**\n",
        "\n",
        "    print(num_list)\n",
        "\n",
        "    [2, 0, 2, 2, \"-\", 1, 2, 3, 4, 5, 6]"
      ]
    },
    {
      "cell_type": "code",
      "execution_count": 548,
      "metadata": {
        "id": "vF7fimZ-FehT"
      },
      "outputs": [
        {
          "name": "stdout",
          "output_type": "stream",
          "text": [
            "[2, 0, 2, 2, '-', 1, 2, 3, 4, 5, 6]\n"
          ]
        }
      ],
      "source": [
        "# put your answer here\n",
        "def insertDash(num_list):\n",
        "    if len(num_list) >= 5:\n",
        "        num_list = num_list[:4] + [\"-\"] + num_list[4:]\n",
        "        return num_list\n",
        "    else:\n",
        "        return \"not enough elements to insert dash\"\n",
        "num_list = [2, 0, 2, 2, 1, 2, 3, 4, 5, 6]\n",
        "result = insertDash(num_list)\n",
        "print(result)"
      ]
    },
    {
      "cell_type": "markdown",
      "metadata": {
        "id": "KkC-LgdxFehT"
      },
      "source": [
        "## Stack"
      ]
    },
    {
      "cell_type": "code",
      "execution_count": 549,
      "metadata": {
        "id": "UYTqB1u_FehU"
      },
      "outputs": [],
      "source": [
        "# Creating a stack\n",
        "def create_stack():\n",
        "    stack = []\n",
        "    return stack\n",
        "\n",
        "\n",
        "def print_stack(stack):\n",
        "\n",
        "    if (check_empty(stack)):\n",
        "        return \"stack is empty\"\n",
        "\n",
        "    # Create a copy of the stack and reverse the elements\n",
        "    tempStack = stack.copy()\n",
        "    tempStack.reverse()\n",
        "\n",
        "    # Print all elements using a loop\n",
        "    for i in tempStack:\n",
        "        print(i)\n",
        "\n",
        "    # Delete the copy to free up memory\n",
        "    del tempStack\n",
        "\n",
        "# Creating an empty stack\n",
        "\n",
        "\n",
        "def check_empty(stack):\n",
        "    return len(stack) == 0\n",
        "\n",
        "\n",
        "# Adding items into the stack\n",
        "def push(stack, item):\n",
        "    stack.append(item)\n",
        "    print(\"pushed item: \" + item)\n",
        "\n",
        "\n",
        "# Removing an element from the stack\n",
        "def pop(stack):\n",
        "    if (check_empty(stack)):\n",
        "        return \"stack is empty\"\n",
        "\n",
        "    return stack.pop()\n",
        "\n",
        "\n",
        "def peek(stack):\n",
        "\n",
        "    # Use negative indexing to display the last element of the list\n",
        "    print(stack[-1])"
      ]
    },
    {
      "cell_type": "markdown",
      "metadata": {
        "id": "wLAQchs8FehU"
      },
      "source": [
        "**Instructions** ❗️❗️\n",
        "\n",
        "Use the pre-defined stack class/functions to create a stack"
      ]
    },
    {
      "cell_type": "markdown",
      "metadata": {
        "id": "37cg9BoCFehU"
      },
      "source": [
        "1. Create two (2) stacks named **name_stack** and **num_stack** `(5 points)`\n",
        "\n",
        "- **name_stack** should contain all letters of your first name.\n",
        "- **num_stack** should contain all digits of your student number.\n",
        "\n",
        "    **Expected Output:**\n",
        "\n",
        "    print(name_stack)\n",
        "\n",
        "    ['E', 'L', 'I', 'Z', 'E', 'R']\n",
        "\n",
        "    print(num_stack)\n",
        "\n",
        "    [2,0,2,2,1,2,3,4,5,6]"
      ]
    },
    {
      "cell_type": "code",
      "execution_count": 550,
      "metadata": {
        "id": "HlUIUQzQFehU"
      },
      "outputs": [
        {
          "name": "stdout",
          "output_type": "stream",
          "text": [
            "['B', 'R', 'A', 'N', 'D', '0', 'A', 'L', 'L', 'E', 'N', 'D', 'O', 'N', 'A', 'T', 'O']\n",
            "[2, 0, 2, 2, 1, 0, 1, 0, 1, 6]\n"
          ]
        }
      ],
      "source": [
        "# put your answer here\n",
        "\n",
        "name_stack = [\"B\",\"R\",\"A\",\"N\",\"D\",\"0\",\"A\",\"L\",\"L\",\"E\",\"N\",\"D\",\"O\",\"N\",\"A\",\"T\",\"O\"]\n",
        "num_stack = [2,0,2,2,1,0,1,0,1,6]\n",
        "\n",
        "print(name_stack )\n",
        "print(num_stack)"
      ]
    },
    {
      "cell_type": "markdown",
      "metadata": {
        "id": "8cySe9LXFehU"
      },
      "source": [
        "2. Create a stack named **my_stack** that follows the following format: `(5 points)`\n",
        "\n",
        "- The first element should be the **5th digit in your student number**\n",
        "- The succeeding elements should be the letters of your **first name**\n",
        "- The last element should be the **last digit of your student number**\n",
        "\n",
        "    **Expected Output:**\n",
        "\n",
        "    my_stack = [1, E, L, I, Z, E, R, 6]"
      ]
    },
    {
      "cell_type": "code",
      "execution_count": 551,
      "metadata": {
        "id": "bEnCoAhjFehU"
      },
      "outputs": [
        {
          "name": "stdout",
          "output_type": "stream",
          "text": [
            "[1, 'B', 'R', 'A', 'N', 'D', 6]\n"
          ]
        }
      ],
      "source": [
        "# put your answer here\n",
        "\n",
        "fifth_digit = num_stack[4]\n",
        "first_name = name_stack[0:5]\n",
        "last_digit = num_stack[-1]\n",
        "\n",
        "combine_stack = [fifth_digit] + list(first_name) + [last_digit]\n",
        "print (combine_stack)"
      ]
    },
    {
      "cell_type": "markdown",
      "metadata": {
        "id": "8a8_KP5nFehU"
      },
      "source": [
        "3. Write a `verifyStack()` function that will take in `my_stack` and check if its format has been followed `(10 points)`\n",
        "\n",
        "- Return **True** if the format has been followed\n",
        "- Return **False** if the format was not followed\n",
        "- Verify the format by checking the contents of **my_stack** with **name_stack** and **num_stack**\n",
        "\n",
        "    **Expected Output:**\n",
        "\n",
        "    my_stack = [1, E, L, I, Z, E, R, 6]\n",
        "\n",
        "    verifyStack(my_stack)\n",
        "\n",
        "    True\n",
        "\n",
        "    my_stack = [1, S, L, I, Z, E, R, 7]\n",
        "\n",
        "    verifyStack(my_stack)\n",
        "\n",
        "    False"
      ]
    },
    {
      "cell_type": "code",
      "execution_count": 552,
      "metadata": {
        "id": "RdANSxD0FehU"
      },
      "outputs": [
        {
          "name": "stdout",
          "output_type": "stream",
          "text": [
            "[6, 'W', 'R', 'A', 'N', 'D', 3]\n",
            "Is it the same to the original?  False\n",
            "[1, 'B', 'R', 'A', 'N', 'D', 6]\n"
          ]
        }
      ],
      "source": [
        "# put your answer here\n",
        "\n",
        "def verifyStack(combine_stack):\n",
        "    expected_format = num_stack[:5] + list(name_stack[:5] + [num_stack[-1]])\n",
        "\n",
        "    return combine_stack == expected_format\n",
        "\n",
        "combine_stack1 = [6, 'W', 'R', 'A', 'N', 'D', 3]\n",
        "print(combine_stack1)\n",
        "print(\"Is it the same to the original? \", verifyStack(combine_stack))\n",
        "print(combine_stack)"
      ]
    },
    {
      "cell_type": "markdown",
      "metadata": {
        "id": "UC5C64B2FehU"
      },
      "source": [
        "## Queue"
      ]
    },
    {
      "cell_type": "code",
      "execution_count": 553,
      "metadata": {
        "id": "NJJ0j0LHFehU"
      },
      "outputs": [],
      "source": [
        "class Queue:\n",
        "    def __init__(self):\n",
        "        self.queue = []\n",
        "\n",
        "    # Add an element\n",
        "    def enqueue(self, item):\n",
        "        self.queue.append(item)\n",
        "\n",
        "    # Remove an element\n",
        "    def dequeue(self):\n",
        "        if len(self.queue) < 1:\n",
        "            return None\n",
        "        return self.queue.pop(0)\n",
        "\n",
        "    # Display  the queue\n",
        "    def display(self):\n",
        "        print(self.queue)\n",
        "\n",
        "    def size(self):\n",
        "        return len(self.queue)\n",
        "\n",
        "    def peek(self):\n",
        "        return self.queue[0]"
      ]
    },
    {
      "cell_type": "markdown",
      "metadata": {
        "id": "80OekpbeFehV"
      },
      "source": [
        "**Instructions** ❗️❗️\n",
        "\n",
        "Use the pre-defined queue class/functions to create a Queue"
      ]
    },
    {
      "cell_type": "markdown",
      "metadata": {
        "id": "_Hf0OP5cFehV"
      },
      "source": [
        "1. Create a simple queue named **num_queue** `(5 points)`\n",
        "\n",
        "- **num_queue** should contain all digits of your student number.\n",
        "\n",
        "    **Expected Output:**\n",
        "\n",
        "    print(num_queue)\n",
        "\n",
        "    [2,0,2,2,1,2,3,4,5,6]"
      ]
    },
    {
      "cell_type": "code",
      "execution_count": 554,
      "metadata": {
        "id": "_mgmE4ArFehV"
      },
      "outputs": [
        {
          "name": "stdout",
          "output_type": "stream",
          "text": [
            "[2, 0, 2, 2, 1, 0, 1, 0, 1, 6]\n"
          ]
        }
      ],
      "source": [
        "# put your answer here\n",
        "num_queue = Queue()\n",
        "\n",
        "student_number = \"2022101016\"\n",
        "for digit in student_number:\n",
        "    num_queue.enqueue(int(digit))\n",
        "num_queue.display()\n"
      ]
    },
    {
      "cell_type": "markdown",
      "metadata": {
        "id": "1pHG8t6DFehV"
      },
      "source": [
        "2. Write a `getMax()` or `getMin()` function for **num_queue** `(5 points)`\n",
        "\n",
        "- If your student number ends with an odd number, create a `getMax()` function that will return the largest number in **num_queue**\n",
        "- If your student number ends with an even number, create a `getMin()` function that will return the lowest number in **num_queue**\n",
        "\n",
        "    **Expected Output for getMax():**\n",
        "\n",
        "    getMax(num_queue)\n",
        "\n",
        "    6\n",
        "\n",
        "    **Expected Output for getMin():**\n",
        "\n",
        "    getMin(num_queue)\n",
        "\n",
        "    0"
      ]
    },
    {
      "cell_type": "code",
      "execution_count": 555,
      "metadata": {
        "id": "itj2U610FehV"
      },
      "outputs": [
        {
          "name": "stdout",
          "output_type": "stream",
          "text": [
            "('Max:', None, 'Min:', 0)\n"
          ]
        }
      ],
      "source": [
        "# put your answer here\n",
        "\n",
        "def getMax():\n",
        "    last_digit = int(student_number[-1])\n",
        "    if last_digit % 2 == 1:\n",
        "        return max(num_queue.queue)\n",
        "    \n",
        "def getMin():\n",
        "    last_digit = int(student_number[-1])\n",
        "    if last_digit % 2 == 0:\n",
        "        return min(num_queue.queue)\n",
        "\n",
        "result = (\"Max:\", getMax(), \"Min:\", getMin())\n",
        "print(result)\n"
      ]
    },
    {
      "cell_type": "markdown",
      "metadata": {
        "id": "YkgmP6GwFehV"
      },
      "source": [
        "3. Write a `getOdd()` or `getEven()` function for  **num_queue** `(5 points)`\n",
        "\n",
        "- If your student number ends with an **odd number**, create a `getOdd()` function that will return all odd numbers in **num_queue**\n",
        "- If your student number ends with an **even number**, create a `getEven()` function that will return all even numbers in **num_queue**\n",
        "\n",
        "    **Expected Output for getOdd():**\n",
        "\n",
        "    getOdd(num_queue)\n",
        "\n",
        "    [1, 3, 5]\n",
        "\n",
        "    **Expected Output for getEven():**\n",
        "\n",
        "    getEven(num_queue)\n",
        "\n",
        "    [0, 2, 4, 6]"
      ]
    },
    {
      "cell_type": "code",
      "execution_count": 556,
      "metadata": {
        "id": "2Bc7E1zNFehV"
      },
      "outputs": [
        {
          "name": "stdout",
          "output_type": "stream",
          "text": [
            "Odd:  []\n",
            "Even:  [2, 0, 2, 2, 0, 0, 6]\n"
          ]
        }
      ],
      "source": [
        "# put your answer here\n",
        "\n",
        "def getOdd():\n",
        "    odd_numbers = []\n",
        "    last_digit = int(student_number[-1])\n",
        "    if last_digit % 2 == 1:\n",
        "        for num in num_queue.queue:\n",
        "            if num % 2 == 1:\n",
        "                odd_numbers.append(num)\n",
        "    return  odd_numbers\n",
        "\n",
        "def getEven():\n",
        "    even_Numbers = []\n",
        "    last_digit = int(student_number[-1])\n",
        "    if last_digit % 2 == 0:\n",
        "        for num in num_queue.queue:\n",
        "            if num % 2 == 0:\n",
        "                even_Numbers.append(num)\n",
        "    return  even_Numbers\n",
        "\n",
        "print(\"Odd: \", getOdd())\n",
        "print(\"Even: \", getEven())\n",
        "\n"
      ]
    },
    {
      "cell_type": "markdown",
      "metadata": {
        "id": "kuzWF5g4FehV"
      },
      "source": [
        "4. Write a `removeDup()` function that will remove all duplicates in **num_queue** `(5 points)`\n",
        "\n",
        "    **Expected Output:**\n",
        "\n",
        "    removeDup(num_queue)\n",
        "\n",
        "    [2,0,1,3,4,5,6]"
      ]
    },
    {
      "cell_type": "code",
      "execution_count": 557,
      "metadata": {
        "id": "I8LeQP8MFehY"
      },
      "outputs": [
        {
          "name": "stdout",
          "output_type": "stream",
          "text": [
            "[0, 1, 2, 6]\n"
          ]
        }
      ],
      "source": [
        "# put your answer here\n",
        "\n",
        "def removeDup():\n",
        "    unique_nums = set(num_queue.queue)\n",
        "    num_queue.queue.clear()\n",
        "\n",
        "    for num in unique_nums:\n",
        "        num_queue.enqueue(num)\n",
        "removeDup()\n",
        "num_queue.display()"
      ]
    },
    {
      "cell_type": "markdown",
      "metadata": {
        "id": "LVfZTh8YFehZ"
      },
      "source": [
        "## Sort"
      ]
    },
    {
      "cell_type": "markdown",
      "metadata": {
        "id": "bm9lonfzFehZ"
      },
      "source": [
        "**Instructions** ❗️❗️\n",
        "\n",
        "Use the any sorting algoritms"
      ]
    },
    {
      "cell_type": "markdown",
      "metadata": {
        "id": "EJTlxhEdFehZ"
      },
      "source": [
        "1. Using any sorting algorithm, sort the **last 6 digits** of your student number in ascending order `(5 points)`\n",
        "\n",
        "    **Example:**\n",
        "\n",
        "    student_number = [2,0,2,2,6,2,5,1,3,4]\n",
        "\n",
        "    **Expected Output:**\n",
        "\n",
        "    print(student_number)\n",
        "\n",
        "    [2,0,2,2,1,2,3,4,5,6]\n"
      ]
    },
    {
      "cell_type": "code",
      "execution_count": 558,
      "metadata": {
        "id": "MkZKfveOFehZ"
      },
      "outputs": [
        {
          "name": "stdout",
          "output_type": "stream",
          "text": [
            "[2, 0, 2, 2, 0, 0, 1, 1, 1, 6]\n"
          ]
        }
      ],
      "source": [
        "# put your answer here\n",
        "student_number = [2,0,2,2,1,0,1,0,1,6]\n",
        "last_six_digit_sorted = sorted(student_number[-6:])\n",
        "student_number[-6:] =last_six_digit_sorted\n",
        "print(student_number)\n"
      ]
    },
    {
      "cell_type": "markdown",
      "metadata": {
        "id": "sC2JZRZMFehZ"
      },
      "source": [
        "2. Using your student_number, separately sort the even numbers in **increasing order** and the odd numbers in **decreasing order** `(15 points)`\n",
        "\n",
        "    **Example:**\n",
        "\n",
        "    student_number = [2,0,2,2,1,2,3,4,5,6]\n",
        "\n",
        "    **Expected Output:**\n",
        "\n",
        "    print(student_number)\n",
        "\n",
        "    [0,2,2,2,2,4,6,5,3,1]"
      ]
    },
    {
      "cell_type": "code",
      "execution_count": 562,
      "metadata": {
        "id": "hWOh_ohcFehZ"
      },
      "outputs": [
        {
          "name": "stdout",
          "output_type": "stream",
          "text": [
            "[0, 0, 0, 2, 2, 2, 6, 1, 1, 1]\n"
          ]
        }
      ],
      "source": [
        "student_number = [2, 0, 2, 2, 1, 0, 1, 0, 1, 6]\n",
        "\n",
        "even_numbers = sorted([x for x in student_number if x % 2 == 0])\n",
        "odd_numbers = sorted([x for x in student_number if x % 2 != 0], reverse=True)\n",
        "sorted_student_number = even_numbers + odd_numbers\n",
        "print(sorted_student_number)\n"
      ]
    }
  ],
  "metadata": {
    "colab": {
      "include_colab_link": true,
      "provenance": []
    },
    "kernelspec": {
      "display_name": "Python 3",
      "language": "python",
      "name": "python3"
    },
    "language_info": {
      "codemirror_mode": {
        "name": "ipython",
        "version": 3
      },
      "file_extension": ".py",
      "mimetype": "text/x-python",
      "name": "python",
      "nbconvert_exporter": "python",
      "pygments_lexer": "ipython3",
      "version": "3.9.13"
    },
    "orig_nbformat": 4
  },
  "nbformat": 4,
  "nbformat_minor": 0
}
